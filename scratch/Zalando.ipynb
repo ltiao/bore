{
 "cells": [
  {
   "cell_type": "code",
   "execution_count": 1,
   "metadata": {},
   "outputs": [],
   "source": [
    "%load_ext tensorboard"
   ]
  },
  {
   "cell_type": "code",
   "execution_count": 2,
   "metadata": {
    "colab": {
     "base_uri": "https://localhost:8080/",
     "height": 34
    },
    "colab_type": "code",
    "executionInfo": {
     "elapsed": 2593,
     "status": "ok",
     "timestamp": 1578955476193,
     "user": {
      "displayName": "Louis Tiao",
      "photoUrl": "https://lh3.googleusercontent.com/a-/AAuE7mBODcbztQh0ykDHHbanwxxtRRqABK3JWzdE-rh6CA=s64",
      "userId": "05968016693469440559"
     },
     "user_tz": -60
    },
    "id": "gvl--HXT-zA6",
    "outputId": "b0ae7646-e3ec-4a61-a1dd-e4691b21350b"
   },
   "outputs": [],
   "source": [
    "import os.path\n",
    "import datetime\n",
    "\n",
    "import numpy as np\n",
    "\n",
    "from tensorflow.keras.layers import Dense, Dropout\n",
    "from tensorflow.keras.models import Sequential\n",
    "from tensorflow.keras.regularizers import l2\n",
    "from tensorflow.keras.callbacks import TensorBoard\n",
    "\n",
    "from pearls.datasets import load_zalando\n",
    "from sklearn.model_selection import train_test_split"
   ]
  },
  {
   "cell_type": "code",
   "execution_count": 3,
   "metadata": {},
   "outputs": [],
   "source": [
    "batch_size = 64\n",
    "epochs = 100\n",
    "test_size = 0.2\n",
    "random_state = 8888"
   ]
  },
  {
   "cell_type": "code",
   "execution_count": 4,
   "metadata": {
    "colab": {},
    "colab_type": "code",
    "id": "WB7m5Mtb_jAi"
   },
   "outputs": [],
   "source": [
    "X, y = load_zalando(base_dir=\"../datasets/zalando-phd-interview\")"
   ]
  },
  {
   "cell_type": "code",
   "execution_count": 5,
   "metadata": {
    "colab": {
     "base_uri": "https://localhost:8080/",
     "height": 34
    },
    "colab_type": "code",
    "executionInfo": {
     "elapsed": 7111,
     "status": "ok",
     "timestamp": 1578955480811,
     "user": {
      "displayName": "Louis Tiao",
      "photoUrl": "https://lh3.googleusercontent.com/a-/AAuE7mBODcbztQh0ykDHHbanwxxtRRqABK3JWzdE-rh6CA=s64",
      "userId": "05968016693469440559"
     },
     "user_tz": -60
    },
    "id": "9vlf5UNxAUZL",
    "outputId": "9b65e429-16e6-45bb-c283-d751552686ee"
   },
   "outputs": [
    {
     "data": {
      "text/plain": [
       "(1000000, 100)"
      ]
     },
     "execution_count": 5,
     "metadata": {},
     "output_type": "execute_result"
    }
   ],
   "source": [
    "X.shape"
   ]
  },
  {
   "cell_type": "code",
   "execution_count": 6,
   "metadata": {
    "colab": {
     "base_uri": "https://localhost:8080/",
     "height": 34
    },
    "colab_type": "code",
    "executionInfo": {
     "elapsed": 7098,
     "status": "ok",
     "timestamp": 1578955480817,
     "user": {
      "displayName": "Louis Tiao",
      "photoUrl": "https://lh3.googleusercontent.com/a-/AAuE7mBODcbztQh0ykDHHbanwxxtRRqABK3JWzdE-rh6CA=s64",
      "userId": "05968016693469440559"
     },
     "user_tz": -60
    },
    "id": "sT6k-Ra6Ap44",
    "outputId": "da598f9c-f7bb-4097-8fcd-852d611d1798"
   },
   "outputs": [
    {
     "data": {
      "text/plain": [
       "(1000000,)"
      ]
     },
     "execution_count": 6,
     "metadata": {},
     "output_type": "execute_result"
    }
   ],
   "source": [
    "y.shape"
   ]
  },
  {
   "cell_type": "code",
   "execution_count": 7,
   "metadata": {
    "colab": {
     "base_uri": "https://localhost:8080/",
     "height": 34
    },
    "colab_type": "code",
    "executionInfo": {
     "elapsed": 7084,
     "status": "ok",
     "timestamp": 1578955480820,
     "user": {
      "displayName": "Louis Tiao",
      "photoUrl": "https://lh3.googleusercontent.com/a-/AAuE7mBODcbztQh0ykDHHbanwxxtRRqABK3JWzdE-rh6CA=s64",
      "userId": "05968016693469440559"
     },
     "user_tz": -60
    },
    "id": "DYzNfOYkB_JZ",
    "outputId": "2772f935-89fd-4bde-ceb9-621fcfbdcac3"
   },
   "outputs": [
    {
     "data": {
      "text/plain": [
       "100"
      ]
     },
     "execution_count": 7,
     "metadata": {},
     "output_type": "execute_result"
    }
   ],
   "source": [
    "input_dim = X.shape[-1]\n",
    "input_dim"
   ]
  },
  {
   "cell_type": "code",
   "execution_count": 8,
   "metadata": {
    "colab": {},
    "colab_type": "code",
    "id": "yVkIGYnVKsw2"
   },
   "outputs": [],
   "source": [
    "X_train, X_test, y_train, y_test = train_test_split(X, y, test_size=test_size, random_state=random_state)"
   ]
  },
  {
   "cell_type": "code",
   "execution_count": 9,
   "metadata": {
    "colab": {},
    "colab_type": "code",
    "id": "o26O1D8GEqbb"
   },
   "outputs": [],
   "source": [
    "l2_reg_scale_gcn = 1e-4"
   ]
  },
  {
   "cell_type": "code",
   "execution_count": 10,
   "metadata": {
    "colab": {},
    "colab_type": "code",
    "id": "UfKfibEqpZk-"
   },
   "outputs": [],
   "source": [
    "# model = Sequential([\n",
    "#     Dense(64, input_dim=input_dim, activation='relu'),\n",
    "#     Dropout(0.2),\n",
    "#     Dense(64, activation='relu'),\n",
    "#     Dropout(0.2),\n",
    "#     Dense(1, activation='sigmoid')\n",
    "# ])"
   ]
  },
  {
   "cell_type": "code",
   "execution_count": 11,
   "metadata": {
    "colab": {
     "base_uri": "https://localhost:8080/",
     "height": 139
    },
    "colab_type": "code",
    "executionInfo": {
     "elapsed": 7538,
     "status": "ok",
     "timestamp": 1578955481340,
     "user": {
      "displayName": "Louis Tiao",
      "photoUrl": "https://lh3.googleusercontent.com/a-/AAuE7mBODcbztQh0ykDHHbanwxxtRRqABK3JWzdE-rh6CA=s64",
      "userId": "05968016693469440559"
     },
     "user_tz": -60
    },
    "id": "dqgH5YzbBrsM",
    "outputId": "654795a2-481e-46e4-81a4-a24630235b65"
   },
   "outputs": [
    {
     "name": "stdout",
     "output_type": "stream",
     "text": [
      "WARNING:tensorflow:From /usr/local/lib/python3.6/dist-packages/tensorflow_core/python/ops/resource_variable_ops.py:1630: calling BaseResourceVariable.__init__ (from tensorflow.python.ops.resource_variable_ops) with constraint is deprecated and will be removed in a future version.\n",
      "Instructions for updating:\n",
      "If using Keras pass *_constraint arguments to layers.\n"
     ]
    }
   ],
   "source": [
    "model = Sequential([\n",
    "    Dense(64, input_dim=input_dim, kernel_regularizer=l2(0.5 * l2_reg_scale_gcn), activation='relu'),\n",
    "    Dense(64, kernel_regularizer=l2(0.5 * l2_reg_scale_gcn), activation='relu'),\n",
    "    Dense(1, activation='sigmoid')\n",
    "])"
   ]
  },
  {
   "cell_type": "code",
   "execution_count": 12,
   "metadata": {
    "colab": {
     "base_uri": "https://localhost:8080/",
     "height": 156
    },
    "colab_type": "code",
    "executionInfo": {
     "elapsed": 7515,
     "status": "ok",
     "timestamp": 1578955481344,
     "user": {
      "displayName": "Louis Tiao",
      "photoUrl": "https://lh3.googleusercontent.com/a-/AAuE7mBODcbztQh0ykDHHbanwxxtRRqABK3JWzdE-rh6CA=s64",
      "userId": "05968016693469440559"
     },
     "user_tz": -60
    },
    "id": "3ZpHoOjQCh0S",
    "outputId": "766ff66e-b6a9-49a1-8a22-8dd3c8404fe2"
   },
   "outputs": [
    {
     "name": "stdout",
     "output_type": "stream",
     "text": [
      "WARNING:tensorflow:From /usr/local/lib/python3.6/dist-packages/tensorflow_core/python/ops/nn_impl.py:183: where (from tensorflow.python.ops.array_ops) is deprecated and will be removed in a future version.\n",
      "Instructions for updating:\n",
      "Use tf.where in 2.0, which has the same broadcast rule as np.where\n"
     ]
    }
   ],
   "source": [
    "model.compile(loss='binary_crossentropy',\n",
    "              optimizer='rmsprop',\n",
    "              metrics=['accuracy'])"
   ]
  },
  {
   "cell_type": "code",
   "execution_count": 13,
   "metadata": {
    "colab": {},
    "colab_type": "code",
    "id": "invIZrfLHu3i"
   },
   "outputs": [],
   "source": [
    "logdir = os.path.join(\"logs\", datetime.datetime.now().strftime(\"%Y%m%d-%H%M%S\"))\n",
    "tensorboard_callback = TensorBoard(logdir)"
   ]
  },
  {
   "cell_type": "code",
   "execution_count": 14,
   "metadata": {},
   "outputs": [
    {
     "data": {
      "text/html": [
       "\n",
       "      <iframe id=\"tensorboard-frame-7db2eaeaebde7cbb\" width=\"100%\" height=\"800\" frameborder=\"0\">\n",
       "      </iframe>\n",
       "      <script>\n",
       "        (function() {\n",
       "          const frame = document.getElementById(\"tensorboard-frame-7db2eaeaebde7cbb\");\n",
       "          const url = new URL(\"/\", window.location);\n",
       "          url.port = 6006;\n",
       "          frame.src = url;\n",
       "        })();\n",
       "      </script>\n",
       "  "
      ],
      "text/plain": [
       "<IPython.core.display.HTML object>"
      ]
     },
     "metadata": {},
     "output_type": "display_data"
    }
   ],
   "source": [
    "%tensorboard --logdir logs"
   ]
  },
  {
   "cell_type": "code",
   "execution_count": 15,
   "metadata": {
    "colab": {
     "base_uri": "https://localhost:8080/",
     "height": 870
    },
    "colab_type": "code",
    "executionInfo": {
     "elapsed": 1038209,
     "status": "ok",
     "timestamp": 1578876729150,
     "user": {
      "displayName": "Louis Tiao",
      "photoUrl": "https://lh3.googleusercontent.com/a-/AAuE7mBODcbztQh0ykDHHbanwxxtRRqABK3JWzdE-rh6CA=s64",
      "userId": "05968016693469440559"
     },
     "user_tz": -60
    },
    "id": "7lxSwcnEDNhB",
    "outputId": "638888fb-b6ab-464a-8f4c-d3b0a1f55537"
   },
   "outputs": [
    {
     "name": "stdout",
     "output_type": "stream",
     "text": [
      "Train on 800000 samples, validate on 200000 samples\n",
      "Epoch 1/100\n",
      "    64/800000 [..............................] - ETA: 2:54:37 - loss: 0.7532 - acc: 0.5625WARNING:tensorflow:Method (on_train_batch_end) is slow compared to the batch update (0.188347). Check your callbacks.\n",
      "800000/800000 [==============================] - 33s 41us/sample - loss: 0.6737 - acc: 0.5739 - val_loss: 0.5926 - val_acc: 0.6688\n",
      "Epoch 2/100\n",
      "800000/800000 [==============================] - 33s 42us/sample - loss: 0.4501 - acc: 0.7526 - val_loss: 0.3940 - val_acc: 0.7818\n",
      "Epoch 3/100\n",
      "800000/800000 [==============================] - 33s 41us/sample - loss: 0.3791 - acc: 0.7915 - val_loss: 0.3702 - val_acc: 0.7973\n",
      "Epoch 4/100\n",
      "800000/800000 [==============================] - 33s 41us/sample - loss: 0.3653 - acc: 0.7999 - val_loss: 0.3585 - val_acc: 0.8036\n",
      "Epoch 5/100\n",
      "800000/800000 [==============================] - 31s 39us/sample - loss: 0.3568 - acc: 0.8051 - val_loss: 0.3532 - val_acc: 0.8061\n",
      "Epoch 6/100\n",
      "800000/800000 [==============================] - 33s 41us/sample - loss: 0.3494 - acc: 0.8107 - val_loss: 0.3468 - val_acc: 0.8122\n",
      "Epoch 7/100\n",
      "800000/800000 [==============================] - 31s 39us/sample - loss: 0.3447 - acc: 0.8151 - val_loss: 0.3438 - val_acc: 0.8164\n",
      "Epoch 8/100\n",
      "800000/800000 [==============================] - 27s 34us/sample - loss: 0.3414 - acc: 0.8187 - val_loss: 0.3428 - val_acc: 0.8188\n",
      "Epoch 9/100\n",
      "800000/800000 [==============================] - 27s 33us/sample - loss: 0.3388 - acc: 0.8220 - val_loss: 0.3349 - val_acc: 0.8266\n",
      "Epoch 10/100\n",
      "800000/800000 [==============================] - 27s 33us/sample - loss: 0.3363 - acc: 0.8254 - val_loss: 0.3356 - val_acc: 0.8264\n",
      "Epoch 11/100\n",
      "800000/800000 [==============================] - 26s 33us/sample - loss: 0.3340 - acc: 0.8280 - val_loss: 0.3305 - val_acc: 0.8321\n",
      "Epoch 12/100\n",
      "800000/800000 [==============================] - 29s 36us/sample - loss: 0.3311 - acc: 0.8316 - val_loss: 0.3311 - val_acc: 0.8325\n",
      "Epoch 13/100\n",
      "800000/800000 [==============================] - 35s 44us/sample - loss: 0.3272 - acc: 0.8361 - val_loss: 0.3262 - val_acc: 0.8377\n",
      "Epoch 14/100\n",
      "800000/800000 [==============================] - 32s 39us/sample - loss: 0.3222 - acc: 0.8410 - val_loss: 0.3283 - val_acc: 0.8383\n",
      "Epoch 15/100\n",
      "800000/800000 [==============================] - 30s 38us/sample - loss: 0.3160 - acc: 0.8474 - val_loss: 0.3095 - val_acc: 0.8519\n",
      "Epoch 16/100\n",
      "800000/800000 [==============================] - 30s 37us/sample - loss: 0.3078 - acc: 0.8547 - val_loss: 0.3037 - val_acc: 0.8592\n",
      "Epoch 17/100\n",
      "800000/800000 [==============================] - 30s 37us/sample - loss: 0.2975 - acc: 0.8629 - val_loss: 0.2871 - val_acc: 0.8711\n",
      "Epoch 18/100\n",
      "800000/800000 [==============================] - 31s 39us/sample - loss: 0.2856 - acc: 0.8720 - val_loss: 0.2755 - val_acc: 0.8803\n",
      "Epoch 19/100\n",
      "800000/800000 [==============================] - 27s 33us/sample - loss: 0.2731 - acc: 0.8810 - val_loss: 0.2671 - val_acc: 0.8853\n",
      "Epoch 20/100\n",
      "800000/800000 [==============================] - 26s 33us/sample - loss: 0.2594 - acc: 0.8900 - val_loss: 0.2425 - val_acc: 0.9019\n",
      "Epoch 21/100\n",
      "800000/800000 [==============================] - 27s 33us/sample - loss: 0.2423 - acc: 0.9022 - val_loss: 0.2355 - val_acc: 0.9075\n",
      "Epoch 22/100\n",
      "800000/800000 [==============================] - 26s 33us/sample - loss: 0.2267 - acc: 0.9124 - val_loss: 0.2207 - val_acc: 0.9157\n",
      "Epoch 23/100\n",
      "800000/800000 [==============================] - 28s 35us/sample - loss: 0.2171 - acc: 0.9177 - val_loss: 0.2185 - val_acc: 0.9180\n",
      "Epoch 24/100\n",
      "800000/800000 [==============================] - 27s 34us/sample - loss: 0.2121 - acc: 0.9204 - val_loss: 0.2091 - val_acc: 0.9232\n",
      "Epoch 25/100\n",
      "800000/800000 [==============================] - 34s 43us/sample - loss: 0.2087 - acc: 0.9222 - val_loss: 0.2099 - val_acc: 0.9229\n",
      "Epoch 26/100\n",
      "800000/800000 [==============================] - 33s 41us/sample - loss: 0.2066 - acc: 0.9237 - val_loss: 0.2068 - val_acc: 0.9237\n",
      "Epoch 27/100\n",
      "800000/800000 [==============================] - 30s 38us/sample - loss: 0.2040 - acc: 0.9251 - val_loss: 0.2102 - val_acc: 0.9210\n",
      "Epoch 28/100\n",
      "800000/800000 [==============================] - 30s 38us/sample - loss: 0.2027 - acc: 0.9264 - val_loss: 0.2075 - val_acc: 0.9241\n",
      "Epoch 29/100\n",
      "800000/800000 [==============================] - 30s 37us/sample - loss: 0.2010 - acc: 0.9272 - val_loss: 0.2132 - val_acc: 0.9216\n",
      "Epoch 30/100\n",
      "800000/800000 [==============================] - 29s 36us/sample - loss: 0.2000 - acc: 0.9285 - val_loss: 0.2039 - val_acc: 0.9249\n",
      "Epoch 31/100\n",
      "800000/800000 [==============================] - 30s 38us/sample - loss: 0.1988 - acc: 0.9288 - val_loss: 0.1930 - val_acc: 0.9332\n",
      "Epoch 32/100\n",
      "800000/800000 [==============================] - 32s 39us/sample - loss: 0.1982 - acc: 0.9294 - val_loss: 0.1990 - val_acc: 0.9290\n",
      "Epoch 33/100\n",
      "800000/800000 [==============================] - 32s 40us/sample - loss: 0.1973 - acc: 0.9302 - val_loss: 0.1960 - val_acc: 0.9314\n",
      "Epoch 34/100\n",
      "800000/800000 [==============================] - 32s 40us/sample - loss: 0.1970 - acc: 0.9307 - val_loss: 0.2029 - val_acc: 0.9265\n",
      "Epoch 35/100\n",
      "800000/800000 [==============================] - 34s 42us/sample - loss: 0.1965 - acc: 0.9313 - val_loss: 0.1940 - val_acc: 0.9324\n",
      "Epoch 36/100\n",
      "188928/800000 [======>.......................] - ETA: 23s - loss: 0.1963 - acc: 0.9316"
     ]
    },
    {
     "ename": "KeyboardInterrupt",
     "evalue": "",
     "output_type": "error",
     "traceback": [
      "\u001b[0;31m---------------------------------------------------------------------------\u001b[0m",
      "\u001b[0;31mKeyboardInterrupt\u001b[0m                         Traceback (most recent call last)",
      "\u001b[0;32m<ipython-input-15-a322023cadb8>\u001b[0m in \u001b[0;36m<module>\u001b[0;34m\u001b[0m\n\u001b[1;32m      2\u001b[0m     \u001b[0mX_train\u001b[0m\u001b[0;34m,\u001b[0m \u001b[0my_train\u001b[0m\u001b[0;34m,\u001b[0m \u001b[0mbatch_size\u001b[0m\u001b[0;34m=\u001b[0m\u001b[0mbatch_size\u001b[0m\u001b[0;34m,\u001b[0m \u001b[0mepochs\u001b[0m\u001b[0;34m=\u001b[0m\u001b[0mepochs\u001b[0m\u001b[0;34m,\u001b[0m\u001b[0;34m\u001b[0m\u001b[0;34m\u001b[0m\u001b[0m\n\u001b[1;32m      3\u001b[0m     \u001b[0mvalidation_data\u001b[0m\u001b[0;34m=\u001b[0m\u001b[0;34m(\u001b[0m\u001b[0mX_test\u001b[0m\u001b[0;34m,\u001b[0m \u001b[0my_test\u001b[0m\u001b[0;34m)\u001b[0m\u001b[0;34m,\u001b[0m\u001b[0;34m\u001b[0m\u001b[0;34m\u001b[0m\u001b[0m\n\u001b[0;32m----> 4\u001b[0;31m     \u001b[0mshuffle\u001b[0m\u001b[0;34m=\u001b[0m\u001b[0;32mTrue\u001b[0m\u001b[0;34m,\u001b[0m \u001b[0mcallbacks\u001b[0m\u001b[0;34m=\u001b[0m\u001b[0;34m[\u001b[0m\u001b[0mtensorboard_callback\u001b[0m\u001b[0;34m]\u001b[0m\u001b[0;34m\u001b[0m\u001b[0;34m\u001b[0m\u001b[0m\n\u001b[0m\u001b[1;32m      5\u001b[0m )\n",
      "\u001b[0;32m~usr/local/lib/python3.6/dist-packages/tensorflow_core/python/keras/engine/training.py\u001b[0m in \u001b[0;36mfit\u001b[0;34m(self, x, y, batch_size, epochs, verbose, callbacks, validation_split, validation_data, shuffle, class_weight, sample_weight, initial_epoch, steps_per_epoch, validation_steps, validation_freq, max_queue_size, workers, use_multiprocessing, **kwargs)\u001b[0m\n\u001b[1;32m    725\u001b[0m         \u001b[0mmax_queue_size\u001b[0m\u001b[0;34m=\u001b[0m\u001b[0mmax_queue_size\u001b[0m\u001b[0;34m,\u001b[0m\u001b[0;34m\u001b[0m\u001b[0;34m\u001b[0m\u001b[0m\n\u001b[1;32m    726\u001b[0m         \u001b[0mworkers\u001b[0m\u001b[0;34m=\u001b[0m\u001b[0mworkers\u001b[0m\u001b[0;34m,\u001b[0m\u001b[0;34m\u001b[0m\u001b[0;34m\u001b[0m\u001b[0m\n\u001b[0;32m--> 727\u001b[0;31m         use_multiprocessing=use_multiprocessing)\n\u001b[0m\u001b[1;32m    728\u001b[0m \u001b[0;34m\u001b[0m\u001b[0m\n\u001b[1;32m    729\u001b[0m   def evaluate(self,\n",
      "\u001b[0;32m~usr/local/lib/python3.6/dist-packages/tensorflow_core/python/keras/engine/training_arrays.py\u001b[0m in \u001b[0;36mfit\u001b[0;34m(self, model, x, y, batch_size, epochs, verbose, callbacks, validation_split, validation_data, shuffle, class_weight, sample_weight, initial_epoch, steps_per_epoch, validation_steps, validation_freq, **kwargs)\u001b[0m\n\u001b[1;32m    673\u001b[0m         \u001b[0mvalidation_steps\u001b[0m\u001b[0;34m=\u001b[0m\u001b[0mvalidation_steps\u001b[0m\u001b[0;34m,\u001b[0m\u001b[0;34m\u001b[0m\u001b[0;34m\u001b[0m\u001b[0m\n\u001b[1;32m    674\u001b[0m         \u001b[0mvalidation_freq\u001b[0m\u001b[0;34m=\u001b[0m\u001b[0mvalidation_freq\u001b[0m\u001b[0;34m,\u001b[0m\u001b[0;34m\u001b[0m\u001b[0;34m\u001b[0m\u001b[0m\n\u001b[0;32m--> 675\u001b[0;31m         steps_name='steps_per_epoch')\n\u001b[0m\u001b[1;32m    676\u001b[0m \u001b[0;34m\u001b[0m\u001b[0m\n\u001b[1;32m    677\u001b[0m   def evaluate(self,\n",
      "\u001b[0;32m~usr/local/lib/python3.6/dist-packages/tensorflow_core/python/keras/engine/training_arrays.py\u001b[0m in \u001b[0;36mmodel_iteration\u001b[0;34m(model, inputs, targets, sample_weights, batch_size, epochs, verbose, callbacks, val_inputs, val_targets, val_sample_weights, shuffle, initial_epoch, steps_per_epoch, validation_steps, validation_freq, mode, validation_in_fit, prepared_feed_values_from_dataset, steps_name, **kwargs)\u001b[0m\n\u001b[1;32m    392\u001b[0m \u001b[0;34m\u001b[0m\u001b[0m\n\u001b[1;32m    393\u001b[0m         \u001b[0;31m# Get outputs.\u001b[0m\u001b[0;34m\u001b[0m\u001b[0;34m\u001b[0m\u001b[0;34m\u001b[0m\u001b[0m\n\u001b[0;32m--> 394\u001b[0;31m         \u001b[0mbatch_outs\u001b[0m \u001b[0;34m=\u001b[0m \u001b[0mf\u001b[0m\u001b[0;34m(\u001b[0m\u001b[0mins_batch\u001b[0m\u001b[0;34m)\u001b[0m\u001b[0;34m\u001b[0m\u001b[0;34m\u001b[0m\u001b[0m\n\u001b[0m\u001b[1;32m    395\u001b[0m         \u001b[0;32mif\u001b[0m \u001b[0;32mnot\u001b[0m \u001b[0misinstance\u001b[0m\u001b[0;34m(\u001b[0m\u001b[0mbatch_outs\u001b[0m\u001b[0;34m,\u001b[0m \u001b[0mlist\u001b[0m\u001b[0;34m)\u001b[0m\u001b[0;34m:\u001b[0m\u001b[0;34m\u001b[0m\u001b[0;34m\u001b[0m\u001b[0m\n\u001b[1;32m    396\u001b[0m           \u001b[0mbatch_outs\u001b[0m \u001b[0;34m=\u001b[0m \u001b[0;34m[\u001b[0m\u001b[0mbatch_outs\u001b[0m\u001b[0;34m]\u001b[0m\u001b[0;34m\u001b[0m\u001b[0;34m\u001b[0m\u001b[0m\n",
      "\u001b[0;32m~usr/local/lib/python3.6/dist-packages/tensorflow_core/python/keras/backend.py\u001b[0m in \u001b[0;36m__call__\u001b[0;34m(self, inputs)\u001b[0m\n\u001b[1;32m   3474\u001b[0m \u001b[0;34m\u001b[0m\u001b[0m\n\u001b[1;32m   3475\u001b[0m     fetched = self._callable_fn(*array_vals,\n\u001b[0;32m-> 3476\u001b[0;31m                                 run_metadata=self.run_metadata)\n\u001b[0m\u001b[1;32m   3477\u001b[0m     \u001b[0mself\u001b[0m\u001b[0;34m.\u001b[0m\u001b[0m_call_fetch_callbacks\u001b[0m\u001b[0;34m(\u001b[0m\u001b[0mfetched\u001b[0m\u001b[0;34m[\u001b[0m\u001b[0;34m-\u001b[0m\u001b[0mlen\u001b[0m\u001b[0;34m(\u001b[0m\u001b[0mself\u001b[0m\u001b[0;34m.\u001b[0m\u001b[0m_fetches\u001b[0m\u001b[0;34m)\u001b[0m\u001b[0;34m:\u001b[0m\u001b[0;34m]\u001b[0m\u001b[0;34m)\u001b[0m\u001b[0;34m\u001b[0m\u001b[0;34m\u001b[0m\u001b[0m\n\u001b[1;32m   3478\u001b[0m     output_structure = nest.pack_sequence_as(\n",
      "\u001b[0;32m~usr/local/lib/python3.6/dist-packages/tensorflow_core/python/client/session.py\u001b[0m in \u001b[0;36m__call__\u001b[0;34m(self, *args, **kwargs)\u001b[0m\n\u001b[1;32m   1470\u001b[0m         ret = tf_session.TF_SessionRunCallable(self._session._session,\n\u001b[1;32m   1471\u001b[0m                                                \u001b[0mself\u001b[0m\u001b[0;34m.\u001b[0m\u001b[0m_handle\u001b[0m\u001b[0;34m,\u001b[0m \u001b[0margs\u001b[0m\u001b[0;34m,\u001b[0m\u001b[0;34m\u001b[0m\u001b[0;34m\u001b[0m\u001b[0m\n\u001b[0;32m-> 1472\u001b[0;31m                                                run_metadata_ptr)\n\u001b[0m\u001b[1;32m   1473\u001b[0m         \u001b[0;32mif\u001b[0m \u001b[0mrun_metadata\u001b[0m\u001b[0;34m:\u001b[0m\u001b[0;34m\u001b[0m\u001b[0;34m\u001b[0m\u001b[0m\n\u001b[1;32m   1474\u001b[0m           \u001b[0mproto_data\u001b[0m \u001b[0;34m=\u001b[0m \u001b[0mtf_session\u001b[0m\u001b[0;34m.\u001b[0m\u001b[0mTF_GetBuffer\u001b[0m\u001b[0;34m(\u001b[0m\u001b[0mrun_metadata_ptr\u001b[0m\u001b[0;34m)\u001b[0m\u001b[0;34m\u001b[0m\u001b[0;34m\u001b[0m\u001b[0m\n",
      "\u001b[0;31mKeyboardInterrupt\u001b[0m: "
     ]
    }
   ],
   "source": [
    "hist = model.fit(\n",
    "    X_train, y_train, batch_size=batch_size, epochs=epochs,\n",
    "    validation_data=(X_test, y_test),\n",
    "    shuffle=True, callbacks=[tensorboard_callback]\n",
    ")"
   ]
  },
  {
   "cell_type": "code",
   "execution_count": null,
   "metadata": {},
   "outputs": [],
   "source": []
  }
 ],
 "metadata": {
  "accelerator": "TPU",
  "colab": {
   "authorship_tag": "ABX9TyN61uCHKrtTkQhWelcTKkWb",
   "collapsed_sections": [],
   "name": "Zalando.ipynb",
   "provenance": []
  },
  "kernelspec": {
   "display_name": "Python 3",
   "language": "python",
   "name": "python3"
  },
  "language_info": {
   "codemirror_mode": {
    "name": "ipython",
    "version": 3
   },
   "file_extension": ".py",
   "mimetype": "text/x-python",
   "name": "python",
   "nbconvert_exporter": "python",
   "pygments_lexer": "ipython3",
   "version": "3.6.8"
  }
 },
 "nbformat": 4,
 "nbformat_minor": 1
}
