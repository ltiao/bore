{
 "cells": [
  {
   "cell_type": "markdown",
   "metadata": {},
   "source": [
    "# Log Gaussian Cox process"
   ]
  },
  {
   "cell_type": "code",
   "execution_count": 1,
   "metadata": {},
   "outputs": [],
   "source": [
    "import matplotlib as mpl; mpl.use('pgf')"
   ]
  },
  {
   "cell_type": "code",
   "execution_count": 2,
   "metadata": {},
   "outputs": [],
   "source": [
    "%matplotlib inline"
   ]
  },
  {
   "cell_type": "code",
   "execution_count": 3,
   "metadata": {},
   "outputs": [
    {
     "name": "stdout",
     "output_type": "stream",
     "text": [
      "WARNING:tensorflow:From /usr/local/lib/python3.6/dist-packages/tensorflow_core/python/compat/v2_compat.py:88: disable_resource_variables (from tensorflow.python.ops.variable_scope) is deprecated and will be removed in a future version.\n",
      "Instructions for updating:\n",
      "non-resource variables are not supported in the long term\n"
     ]
    }
   ],
   "source": [
    "import numpy as np\n",
    "\n",
    "import tensorflow.compat.v1 as tf\n",
    "tf.disable_v2_behavior()\n",
    "# import tensorflow as tf\n",
    "import tensorflow_probability as tfp\n",
    "\n",
    "import matplotlib.pyplot as plt\n",
    "import seaborn as sns\n",
    "import pandas as pd\n",
    "\n",
    "from collections import defaultdict\n",
    "\n",
    "from sklearn.preprocessing import MinMaxScaler\n",
    "from matplotlib import animation\n",
    "from IPython.display import HTML\n",
    "\n",
    "from etudes.gaussian_processes import gp_sample_custom, dataframe_from_gp_samples"
   ]
  },
  {
   "cell_type": "code",
   "execution_count": 4,
   "metadata": {},
   "outputs": [],
   "source": [
    "golden_ratio = 0.5 * (1 + np.sqrt(5))\n",
    "golden_size = lambda width: (width, width / golden_ratio)"
   ]
  },
  {
   "cell_type": "code",
   "execution_count": 5,
   "metadata": {},
   "outputs": [],
   "source": [
    "width = 10\n",
    "\n",
    "rc = {\n",
    "    \"figure.figsize\": golden_size(width),\n",
    "    \"text.usetex\": True,\n",
    "}\n",
    "\n",
    "sns.set(context=\"notebook\", style=\"ticks\", palette=\"colorblind\", font=\"serif\", rc=rc)"
   ]
  },
  {
   "cell_type": "code",
   "execution_count": 6,
   "metadata": {},
   "outputs": [
    {
     "data": {
      "text/html": [
       "<div>\n",
       "<style scoped>\n",
       "    .dataframe tbody tr th:only-of-type {\n",
       "        vertical-align: middle;\n",
       "    }\n",
       "\n",
       "    .dataframe tbody tr th {\n",
       "        vertical-align: top;\n",
       "    }\n",
       "\n",
       "    .dataframe thead th {\n",
       "        text-align: right;\n",
       "    }\n",
       "</style>\n",
       "<table border=\"1\" class=\"dataframe\">\n",
       "  <thead>\n",
       "    <tr style=\"text-align: right;\">\n",
       "      <th></th>\n",
       "      <th>count</th>\n",
       "    </tr>\n",
       "    <tr>\n",
       "      <th>days</th>\n",
       "      <th></th>\n",
       "    </tr>\n",
       "  </thead>\n",
       "  <tbody>\n",
       "    <tr>\n",
       "      <th>25.5</th>\n",
       "      <td>1</td>\n",
       "    </tr>\n",
       "    <tr>\n",
       "      <th>75.5</th>\n",
       "      <td>0</td>\n",
       "    </tr>\n",
       "    <tr>\n",
       "      <th>125.5</th>\n",
       "      <td>0</td>\n",
       "    </tr>\n",
       "    <tr>\n",
       "      <th>175.5</th>\n",
       "      <td>1</td>\n",
       "    </tr>\n",
       "    <tr>\n",
       "      <th>225.5</th>\n",
       "      <td>0</td>\n",
       "    </tr>\n",
       "    <tr>\n",
       "      <th>...</th>\n",
       "      <td>...</td>\n",
       "    </tr>\n",
       "    <tr>\n",
       "      <th>40326.0</th>\n",
       "      <td>0</td>\n",
       "    </tr>\n",
       "    <tr>\n",
       "      <th>40376.0</th>\n",
       "      <td>0</td>\n",
       "    </tr>\n",
       "    <tr>\n",
       "      <th>40426.0</th>\n",
       "      <td>0</td>\n",
       "    </tr>\n",
       "    <tr>\n",
       "      <th>40476.0</th>\n",
       "      <td>0</td>\n",
       "    </tr>\n",
       "    <tr>\n",
       "      <th>40526.0</th>\n",
       "      <td>1</td>\n",
       "    </tr>\n",
       "  </tbody>\n",
       "</table>\n",
       "<p>811 rows × 1 columns</p>\n",
       "</div>"
      ],
      "text/plain": [
       "         count\n",
       "days          \n",
       "25.5         1\n",
       "75.5         0\n",
       "125.5        0\n",
       "175.5        1\n",
       "225.5        0\n",
       "...        ...\n",
       "40326.0      0\n",
       "40376.0      0\n",
       "40426.0      0\n",
       "40476.0      0\n",
       "40526.0      1\n",
       "\n",
       "[811 rows x 1 columns]"
      ]
     },
     "execution_count": 6,
     "metadata": {},
     "output_type": "execute_result"
    }
   ],
   "source": [
    "data = pd.read_csv(\"../../datasets/coal-mining-disasters/data.csv\", \n",
    "                   names=[\"count\", \"days\"], header=None, index_col=1)\n",
    "data"
   ]
  },
  {
   "cell_type": "code",
   "execution_count": 7,
   "metadata": {},
   "outputs": [
    {
     "data": {
      "image/png": "[encoded data removed]",
      "text/plain": [
       "<Figure size 720x444.984 with 1 Axes>"
      ]
     },
     "metadata": {},
     "output_type": "display_data"
    }
   ],
   "source": [
    "fig, ax = plt.subplots()\n",
    "\n",
    "sns.lineplot(x=\"days\", y=\"count\", data=data.reset_index(), ax=ax)\n",
    "\n",
    "plt.show()"
   ]
  },
  {
   "cell_type": "code",
   "execution_count": 8,
   "metadata": {},
   "outputs": [
    {
     "ename": "AttributeError",
     "evalue": "module 'tensorflow_probability.python.math.psd_kernels' has no attribute 'MaternOneHalves'",
     "output_type": "error",
     "traceback": [
      "\u001b[0;31m---------------------------------------------------------------------------\u001b[0m",
      "\u001b[0;31mAttributeError\u001b[0m                            Traceback (most recent call last)",
      "\u001b[0;32m<ipython-input-8-6122b3dbbec0>\u001b[0m in \u001b[0;36m<module>\u001b[0;34m\u001b[0m\n\u001b[1;32m      8\u001b[0m \u001b[0mn_samples\u001b[0m \u001b[0;34m=\u001b[0m \u001b[0;36m20\u001b[0m \u001b[0;31m# nbr of GP prior samples\u001b[0m\u001b[0;34m\u001b[0m\u001b[0;34m\u001b[0m\u001b[0m\n\u001b[1;32m      9\u001b[0m \u001b[0mjitter\u001b[0m \u001b[0;34m=\u001b[0m \u001b[0;36m1e-6\u001b[0m\u001b[0;34m\u001b[0m\u001b[0;34m\u001b[0m\u001b[0m\n\u001b[0;32m---> 10\u001b[0;31m \u001b[0mkernel_cls\u001b[0m \u001b[0;34m=\u001b[0m \u001b[0mkernels\u001b[0m\u001b[0;34m.\u001b[0m\u001b[0mMaternOneHalves\u001b[0m\u001b[0;34m\u001b[0m\u001b[0;34m\u001b[0m\u001b[0m\n\u001b[0m\u001b[1;32m     11\u001b[0m \u001b[0;34m\u001b[0m\u001b[0m\n\u001b[1;32m     12\u001b[0m \u001b[0mn_train\u001b[0m\u001b[0;34m,\u001b[0m \u001b[0mnum_features\u001b[0m \u001b[0;34m=\u001b[0m \u001b[0mdata\u001b[0m\u001b[0;34m.\u001b[0m\u001b[0mshape\u001b[0m\u001b[0;34m\u001b[0m\u001b[0;34m\u001b[0m\u001b[0m\n",
      "\u001b[0;31mAttributeError\u001b[0m: module 'tensorflow_probability.python.math.psd_kernels' has no attribute 'MaternOneHalves'"
     ]
    }
   ],
   "source": [
    "# shortcuts\n",
    "tfd = tfp.distributions\n",
    "kernels = tfp.math.psd_kernels\n",
    "\n",
    "# constants\n",
    "n_features = 1 # dimensionality\n",
    "\n",
    "n_samples = 20 # nbr of GP prior samples\n",
    "jitter = 1e-6\n",
    "kernel_cls = kernels.MaternOneHalves\n",
    "\n",
    "n_train, num_features = data.shape\n",
    "\n",
    "n_index_points = 256\n",
    "n_inducing_points = 50\n",
    "n_epochs = 2000\n",
    "batch_size = 64\n",
    "quadrature_size = 20\n",
    "\n",
    "seed = 888 # set random seed for reproducibility\n",
    "random_state = np.random.RandomState(seed)\n",
    "\n",
    "x_min, x_max = 0, 1\n",
    "y_min, y_max = -4.0, 4.0\n",
    "x_loc = -0.5\n",
    "# index points\n",
    "X_q = np.linspace(-0.5, 1.5, n_index_points).reshape(-1, num_features)"
   ]
  },
  {
   "cell_type": "code",
   "execution_count": null,
   "metadata": {},
   "outputs": [],
   "source": [
    "scaler = MinMaxScaler()"
   ]
  },
  {
   "cell_type": "code",
   "execution_count": null,
   "metadata": {},
   "outputs": [],
   "source": [
    "X = scaler.fit_transform(data.index.to_numpy().reshape(-1, num_features))\n",
    "X.shape"
   ]
  },
  {
   "cell_type": "code",
   "execution_count": null,
   "metadata": {},
   "outputs": [],
   "source": [
    "Y = data.to_numpy().squeeze().astype(\"float64\")\n",
    "Y.shape"
   ]
  },
  {
   "cell_type": "code",
   "execution_count": null,
   "metadata": {},
   "outputs": [],
   "source": [
    "fig, ax = plt.subplots()\n",
    "\n",
    "ax.plot(X, Y)\n",
    "\n",
    "ax.set_xlabel('days (since March 15, 1851)')\n",
    "ax.set_ylabel('coal mine disasters')\n",
    "\n",
    "plt.show()"
   ]
  },
  {
   "cell_type": "code",
   "execution_count": null,
   "metadata": {},
   "outputs": [],
   "source": [
    "amplitude = tf.exp(tf.Variable(np.float64(0)), name='amplitude')\n",
    "length_scale = tf.exp(tf.Variable(np.float64(-1)), name='length_scale')\n",
    "observation_noise_variance = tf.exp(tf.Variable(np.float64(-5)), name='observation_noise_variance')\n",
    "kernel = kernel_cls(amplitude=amplitude, length_scale=length_scale)"
   ]
  },
  {
   "cell_type": "code",
   "execution_count": null,
   "metadata": {},
   "outputs": [],
   "source": [
    "inducing_index_points_initial = random_state.choice(X.squeeze(), n_inducing_points).reshape(-1, n_features)\n",
    "inducing_index_points_initial.shape"
   ]
  },
  {
   "cell_type": "code",
   "execution_count": null,
   "metadata": {},
   "outputs": [],
   "source": [
    "inducing_index_points = tf.Variable(inducing_index_points_initial, \n",
    "                                    name='inducing_index_points')\n",
    "variational_inducing_observations_loc = tf.Variable(np.zeros(n_inducing_points), \n",
    "                                                    name='variational_inducing_observations_loc')\n",
    "variational_inducing_observations_scale = tf.Variable(\n",
    "    np.eye(n_inducing_points), name='variational_inducing_observations_scale')"
   ]
  },
  {
   "cell_type": "code",
   "execution_count": null,
   "metadata": {},
   "outputs": [],
   "source": [
    "vgp = tfd.VariationalGaussianProcess(\n",
    "    kernel=kernel,\n",
    "    index_points=X_q,\n",
    "    inducing_index_points=inducing_index_points,\n",
    "    variational_inducing_observations_loc=variational_inducing_observations_loc,\n",
    "    variational_inducing_observations_scale=variational_inducing_observations_scale,\n",
    "    observation_noise_variance=observation_noise_variance\n",
    ")"
   ]
  },
  {
   "cell_type": "code",
   "execution_count": null,
   "metadata": {},
   "outputs": [],
   "source": [
    "dataset = tf.data.Dataset.from_tensor_slices((X, Y)) \\\n",
    "                         .shuffle(buffer_size=500, seed=seed) \\\n",
    "                         .batch(batch_size, drop_remainder=True)\n",
    "iterator = tf.data.make_initializable_iterator(dataset)\n",
    "X_batch, Y_batch = iterator.get_next()\n",
    "X_batch, Y_batch"
   ]
  },
  {
   "cell_type": "code",
   "execution_count": null,
   "metadata": {},
   "outputs": [],
   "source": [
    "log_mean_offset = tf.Variable(np.float64(1.0), name='log_mean_offset')\n",
    "log_mean_offset"
   ]
  },
  {
   "cell_type": "code",
   "execution_count": null,
   "metadata": {},
   "outputs": [],
   "source": [
    "def make_likelihood(f, log_mean_offset):\n",
    "\n",
    "    return tfd.Independent(tfd.Poisson(log_rate=f + log_mean_offset),\n",
    "                           reinterpreted_batch_ndims=1)"
   ]
  },
  {
   "cell_type": "code",
   "execution_count": null,
   "metadata": {},
   "outputs": [],
   "source": [
    "vgp_sample = vgp.sample()\n",
    "vgp_sample"
   ]
  },
  {
   "cell_type": "code",
   "execution_count": null,
   "metadata": {},
   "outputs": [],
   "source": [
    "model_sample = make_likelihood(vgp_sample, log_mean_offset).mean()\n",
    "model_sample"
   ]
  },
  {
   "cell_type": "code",
   "execution_count": null,
   "metadata": {},
   "outputs": [],
   "source": [
    "with tf.Session() as sess:\n",
    "\n",
    "    sess.run(tf.global_variables_initializer())\n",
    "\n",
    "    vgpmodel_sample_value = sess.run(model_sample)"
   ]
  },
  {
   "cell_type": "code",
   "execution_count": null,
   "metadata": {},
   "outputs": [],
   "source": [
    "fig, ax = plt.subplots()\n",
    "\n",
    "ax.plot(X_q, vgpmodel_sample_value.T, alpha=0.4)\n",
    "\n",
    "plt.show()"
   ]
  },
  {
   "cell_type": "code",
   "execution_count": null,
   "metadata": {},
   "outputs": [],
   "source": [
    "def log_likelihood(Y, f):\n",
    "\n",
    "    p = make_likelihood(f, log_mean_offset)\n",
    "    return p.log_prob(Y)"
   ]
  },
  {
   "cell_type": "code",
   "execution_count": null,
   "metadata": {},
   "outputs": [],
   "source": [
    "ell = vgp.surrogate_posterior_expected_log_likelihood(\n",
    "    observation_index_points=X_batch,\n",
    "    observations=Y_batch,\n",
    "    log_likelihood_fn=log_likelihood,\n",
    "    quadrature_size=quadrature_size\n",
    ")\n",
    "ell"
   ]
  },
  {
   "cell_type": "code",
   "execution_count": null,
   "metadata": {},
   "outputs": [],
   "source": [
    "kl = vgp.surrogate_posterior_kl_divergence_prior()\n",
    "kl"
   ]
  },
  {
   "cell_type": "code",
   "execution_count": null,
   "metadata": {},
   "outputs": [],
   "source": [
    "nelbo = - ell + kl * batch_size / n_train\n",
    "nelbo"
   ]
  },
  {
   "cell_type": "code",
   "execution_count": null,
   "metadata": {},
   "outputs": [],
   "source": [
    "optimizer = tf.train.AdamOptimizer()\n",
    "optimize = optimizer.minimize(nelbo)"
   ]
  },
  {
   "cell_type": "code",
   "execution_count": null,
   "metadata": {},
   "outputs": [],
   "source": [
    "steps_per_epoch = n_train // batch_size\n",
    "steps_per_epoch"
   ]
  },
  {
   "cell_type": "code",
   "execution_count": null,
   "metadata": {},
   "outputs": [],
   "source": [
    "history = defaultdict(list)\n",
    "\n",
    "with tf.Session() as sess:\n",
    "\n",
    "    sess.run(tf.global_variables_initializer())\n",
    "\n",
    "    for i in range(n_epochs):\n",
    "\n",
    "        print(i)\n",
    "        sess.run(iterator.initializer)\n",
    "        \n",
    "        for j in range(steps_per_epoch):\n",
    "\n",
    "            (_, nelbo_value, \n",
    "             amplitude_value, \n",
    "             length_scale_value,\n",
    "             observation_noise_variance_value,\n",
    "             inducing_index_points_value,\n",
    "             variational_inducing_observations_loc_value,\n",
    "             variational_inducing_observations_scale_value,\n",
    "             log_mean_offset_value) = sess.run([optimize, \n",
    "                                                nelbo, \n",
    "                                                amplitude, \n",
    "                                                length_scale, \n",
    "                                                observation_noise_variance,\n",
    "                                                inducing_index_points,\n",
    "                                                variational_inducing_observations_loc, \n",
    "                                                variational_inducing_observations_scale,\n",
    "                                                log_mean_offset])\n",
    "\n",
    "        history[\"nelbo\"].append(nelbo_value)\n",
    "        history[\"amplitude\"].append(amplitude_value)\n",
    "        history[\"length_scale\"].append(length_scale_value)\n",
    "        history[\"observation_noise_variance\"].append(observation_noise_variance_value)\n",
    "        history[\"inducing_index_points\"].append(inducing_index_points_value)\n",
    "        history[\"variational_inducing_observations_loc\"].append(variational_inducing_observations_loc_value)\n",
    "        history[\"variational_inducing_observations_scale\"].append(variational_inducing_observations_scale_value)\n",
    "        history[\"log_mean_offset\"].append(log_mean_offset_value)"
   ]
  },
  {
   "cell_type": "code",
   "execution_count": null,
   "metadata": {},
   "outputs": [],
   "source": [
    "history_df = pd.DataFrame(history)"
   ]
  },
  {
   "cell_type": "code",
   "execution_count": null,
   "metadata": {},
   "outputs": [],
   "source": [
    "fig, ax = plt.subplots()\n",
    "\n",
    "sns.lineplot(x='index', y='amplitude', data=history_df.reset_index(),\n",
    "             alpha=0.8, ax=ax)\n",
    "\n",
    "ax.set_xlabel(\"epoch\")\n",
    "ax.set_yscale(\"log\")\n",
    "\n",
    "plt.show()"
   ]
  },
  {
   "cell_type": "code",
   "execution_count": null,
   "metadata": {},
   "outputs": [],
   "source": [
    "inducing_index_points_history = np.stack(history[\"inducing_index_points\"])\n",
    "inducing_index_points_history.shape"
   ]
  },
  {
   "cell_type": "code",
   "execution_count": null,
   "metadata": {},
   "outputs": [],
   "source": [
    "segments_min_history = np.dstack(np.broadcast_arrays(inducing_index_points_history, y_min))\n",
    "segments_max_history = np.dstack([inducing_index_points_history, \n",
    "                                  history[\"variational_inducing_observations_loc\"]])"
   ]
  },
  {
   "cell_type": "code",
   "execution_count": null,
   "metadata": {},
   "outputs": [],
   "source": [
    "segments_history = np.stack([segments_max_history, segments_min_history], axis=-2)\n",
    "segments_history.shape"
   ]
  },
  {
   "cell_type": "code",
   "execution_count": null,
   "metadata": {},
   "outputs": [],
   "source": [
    "kernel_history = kernel_cls(amplitude=history.get(\"amplitude\"), length_scale=history.get(\"length_scale\"))\n",
    "\n",
    "vgp_history = tfd.VariationalGaussianProcess(\n",
    "    kernel=kernel_history,\n",
    "    index_points=X_q,\n",
    "    inducing_index_points=np.stack(history.get(\"inducing_index_points\")),\n",
    "    variational_inducing_observations_loc=np.stack(history.get(\"variational_inducing_observations_loc\")),\n",
    "    variational_inducing_observations_scale=np.stack(history.get(\"variational_inducing_observations_scale\")),\n",
    "    observation_noise_variance=history.get(\"observation_noise_variance\")\n",
    ")\n",
    "vgp_mean = vgp_history.mean()\n",
    "vgp_stddev = vgp_history.stddev()"
   ]
  },
  {
   "cell_type": "code",
   "execution_count": null,
   "metadata": {},
   "outputs": [],
   "source": [
    "with tf.Session() as sess:\n",
    "    vgp_mean_value, vgp_stddev_value = sess.run([vgp_mean, vgp_stddev])"
   ]
  },
  {
   "cell_type": "code",
   "execution_count": null,
   "metadata": {},
   "outputs": [],
   "source": [
    "fig, ax = plt.subplots()\n",
    "\n",
    "# ax.plot(X_q, latent_true, 'k-', label=r\"$\\log p(x) - \\log q(x)$\")\n",
    "\n",
    "ax.plot(X_q, vgp_mean_value[-1], label=\"posterior predictive mean\")\n",
    "ax.fill_between(np.squeeze(X_q), \n",
    "                vgp_mean_value[-1] - 2*vgp_stddev_value[-1], \n",
    "                vgp_mean_value[-1] + 2*vgp_stddev_value[-1], alpha=0.1)\n",
    "\n",
    "# ax.scatter(X, Y, marker='x', color='k', label=\"noisy observations\")\n",
    "\n",
    "ax.vlines(history[\"inducing_index_points\"][-1], ymin=y_min, \n",
    "          ymax=history[\"variational_inducing_observations_loc\"][-1],\n",
    "          color='k', linewidth=1.0, alpha=0.4)\n",
    "\n",
    "ax.set_xlabel('$x$')\n",
    "ax.set_ylabel('$f(x)$')\n",
    "ax.set_ylim(y_min, y_max)\n",
    "\n",
    "ax.legend()\n",
    "\n",
    "plt.show()"
   ]
  },
  {
   "cell_type": "code",
   "execution_count": null,
   "metadata": {},
   "outputs": [],
   "source": [
    "fig, (ax1, ax2) = plt.subplots(nrows=2, sharex=True, gridspec_kw=dict(hspace=0.1))\n",
    "\n",
    "# ax1.plot(X_q, latent_true, 'k-', label=r\"$\\log p(x) - \\log q(x)$\")\n",
    "\n",
    "line_mean, = ax1.plot(X_q, vgp_mean_value[-1], color=\"tab:blue\", label=\"posterior predictive mean\")\n",
    "line_stddev_lower, = ax1.plot(X_q, vgp_mean_value[-1] - 2*vgp_stddev_value[-1], \n",
    "                              color=\"tab:blue\", alpha=0.4)\n",
    "line_stddev_upper, = ax1.plot(X_q, vgp_mean_value[-1] + 2*vgp_stddev_value[-1],\n",
    "                              color=\"tab:blue\", alpha=0.4)\n",
    "\n",
    "vlines_inducing_index_points = ax1.vlines(inducing_index_points_history[-1].squeeze(), \n",
    "                                          ymax=history[\"variational_inducing_observations_loc\"][-1],\n",
    "                                          ymin=y_min, linewidth=1.0, alpha=0.4)\n",
    "\n",
    "ax1.set_ylabel('$\\log \\lambda(x)$')\n",
    "ax1.set_ylim(y_min, y_max)\n",
    "\n",
    "lines_inducing_index_points = ax2.plot(inducing_index_points_history.squeeze(), range(n_epochs),\n",
    "                                       color='k', linewidth=1.0, alpha=0.4)\n",
    "\n",
    "ax2.set_xlabel(r\"$x$\")\n",
    "ax2.set_ylabel(\"epoch\")\n",
    "\n",
    "ax1.legend()\n",
    "\n",
    "plt.show()"
   ]
  },
  {
   "cell_type": "code",
   "execution_count": null,
   "metadata": {},
   "outputs": [],
   "source": [
    "# # num_frames = 100\n",
    "# num_frames = n_epochs"
   ]
  },
  {
   "cell_type": "code",
   "execution_count": null,
   "metadata": {},
   "outputs": [],
   "source": [
    "# def animate(i):\n",
    "\n",
    "#     line_mean.set_data(X_q, vgp_mean_value[-num_frames+i])\n",
    "#     line_stddev_lower.set_data(X_q, vgp_mean_value[-num_frames+i] - 2*vgp_stddev_value[-num_frames+i])\n",
    "#     line_stddev_upper.set_data(X_q, vgp_mean_value[-num_frames+i] + 2*vgp_stddev_value[-num_frames+i])\n",
    "\n",
    "#     vlines_inducing_index_points.set_segments(segments_history[-num_frames+i])\n",
    "\n",
    "#     for j, line in enumerate(lines_inducing_index_points):\n",
    "#         line.set_data(inducing_index_points_history[:-num_frames+i, j], \n",
    "#                       np.arange(n_epochs-num_frames+i))\n",
    "\n",
    "#     ax2.relim()\n",
    "#     ax2.autoscale_view(scalex=False)\n",
    "\n",
    "#     return lines_inducing_index_points + [line_mean, line_stddev_lower, line_stddev_upper]"
   ]
  },
  {
   "cell_type": "code",
   "execution_count": null,
   "metadata": {},
   "outputs": [],
   "source": [
    "# anim = animation.FuncAnimation(fig, animate, frames=num_frames,\n",
    "#                                interval=60, repeat_delay=5, blit=True)"
   ]
  },
  {
   "cell_type": "code",
   "execution_count": null,
   "metadata": {},
   "outputs": [],
   "source": [
    "# HTML(anim.to_html5_video())"
   ]
  },
  {
   "cell_type": "code",
   "execution_count": null,
   "metadata": {},
   "outputs": [],
   "source": [
    "kernel_final = kernel_cls(amplitude=history[\"amplitude\"][-1], length_scale=history[\"length_scale\"][-1])\n",
    "\n",
    "vgp_final = tfd.VariationalGaussianProcess(\n",
    "    kernel=kernel_final,\n",
    "    index_points=X_q,\n",
    "    inducing_index_points=history[\"inducing_index_points\"][-1],\n",
    "    variational_inducing_observations_loc=history[\"variational_inducing_observations_loc\"][-1],\n",
    "    variational_inducing_observations_scale=history[\"variational_inducing_observations_scale\"][-1],\n",
    "    observation_noise_variance=history[\"observation_noise_variance\"][-1]\n",
    ")"
   ]
  },
  {
   "cell_type": "code",
   "execution_count": null,
   "metadata": {},
   "outputs": [],
   "source": [
    "p = tfd.LogNormal(loc=vgp_final.mean(), scale=vgp_final.stddev())\n",
    "p"
   ]
  },
  {
   "cell_type": "code",
   "execution_count": null,
   "metadata": {},
   "outputs": [],
   "source": [
    "with tf.Session() as sess:\n",
    "    mean_value, stddev_value = sess.run([p.mean(), p.stddev()])"
   ]
  },
  {
   "cell_type": "code",
   "execution_count": null,
   "metadata": {},
   "outputs": [],
   "source": [
    "fig, ax = plt.subplots()\n",
    "\n",
    "ax.plot(X_q, mean_value, label=\"posterior predictive mean\")\n",
    "ax.fill_between(np.squeeze(X_q), \n",
    "                mean_value - 2*stddev_value, \n",
    "                mean_value + 2*stddev_value, alpha=0.1)\n",
    "\n",
    "# ax.vlines(history[\"inducing_index_points\"][-1], ymin=y_min, \n",
    "#           ymax=history[\"variational_inducing_observations_loc\"][-1],\n",
    "#           color='k', linewidth=1.0, alpha=0.4)\n",
    "\n",
    "ax.set_xlabel('$x$')\n",
    "ax.set_ylabel('$\\lambda(x)$')\n",
    "ax.set_ylim(-0.1, 1.0)\n",
    "ax.set_xlim(0.0, 1.0)\n",
    "# ax.set_xlim(-0.1, 1.1)\n",
    "\n",
    "ax.legend()\n",
    "\n",
    "plt.show()"
   ]
  },
  {
   "cell_type": "code",
   "execution_count": null,
   "metadata": {},
   "outputs": [],
   "source": [
    "vgp_sample = vgp_final.sample(sample_shape=n_samples)\n",
    "vgp_sample"
   ]
  },
  {
   "cell_type": "code",
   "execution_count": null,
   "metadata": {},
   "outputs": [],
   "source": [
    "make_likelihood(vgp_sample).mean()"
   ]
  },
  {
   "cell_type": "code",
   "execution_count": null,
   "metadata": {},
   "outputs": [],
   "source": [
    "with tf.Session() as sess:\n",
    "    vgp_sample_value, class_prob_sample_value = sess.run([vgp_sample, make_likelihood(vgp_sample).mean()])"
   ]
  },
  {
   "cell_type": "code",
   "execution_count": null,
   "metadata": {},
   "outputs": [],
   "source": [
    "fig, ax = plt.subplots()\n",
    "\n",
    "# ax.plot(X_q, latent_true, 'k-', label=r\"$\\log p(x) - \\log q(x)$\")\n",
    "ax.plot(X_q, vgp_sample_value.T, alpha=0.4)\n",
    "# ax.scatter(X, Y, marker='x', color='k', label=\"noisy observations\")\n",
    "\n",
    "ax.set_xlim(-0.1, 1.1)\n",
    "ax.set_ylim(y_min, y_max)\n",
    "\n",
    "ax.set_xlabel('$x$')\n",
    "ax.set_ylabel('$f(x)$')\n",
    "\n",
    "ax.set_ylabel('$\\log \\lambda(x)$')\n",
    "# ax.legend()\n",
    "\n",
    "plt.show()"
   ]
  },
  {
   "cell_type": "code",
   "execution_count": null,
   "metadata": {},
   "outputs": [],
   "source": [
    "fig, ax = plt.subplots()\n",
    "\n",
    "ax.plot(X_q, class_prob_sample_value.T, alpha=0.4)\n",
    "ax.scatter(X, Y, s=2.0)\n",
    "ax.vlines(X, ymin=0, ymax=Y, linewidth=0.5, alpha=0.8)\n",
    "\n",
    "ax.set_ylim(-0.1, 4.5)\n",
    "ax.set_xlim(-0.1, 1.1)\n",
    "\n",
    "ax.set_ylabel('$\\lambda(x)$')\n",
    "ax.set_xlabel('$x$')\n",
    "\n",
    "plt.show()"
   ]
  }
 ],
 "metadata": {
  "kernelspec": {
   "display_name": "Python 3",
   "language": "python",
   "name": "python3"
  },
  "language_info": {
   "codemirror_mode": {
    "name": "ipython",
    "version": 3
   },
   "file_extension": ".py",
   "mimetype": "text/x-python",
   "name": "python",
   "nbconvert_exporter": "python",
   "pygments_lexer": "ipython3",
   "version": "3.6.9"
  }
 },
 "nbformat": 4,
 "nbformat_minor": 2
}
