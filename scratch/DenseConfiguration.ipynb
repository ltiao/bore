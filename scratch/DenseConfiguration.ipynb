{
 "cells": [
  {
   "cell_type": "code",
   "execution_count": 1,
   "metadata": {},
   "outputs": [],
   "source": [
    "import numpy as np\n",
    "import ConfigSpace as CS\n",
    "\n",
    "from bore.datatypes import DenseConfigurationSpace, DenseConfiguration"
   ]
  },
  {
   "cell_type": "code",
   "execution_count": 2,
   "metadata": {},
   "outputs": [],
   "source": [
    "seed = 8888 "
   ]
  },
  {
   "cell_type": "code",
   "execution_count": 3,
   "metadata": {},
   "outputs": [
    {
     "data": {
      "text/plain": [
       "Configuration space object:\n",
       "  Hyperparameters:\n",
       "    activation_fn_1, Type: Categorical, Choices: {tanh, relu}, Default: tanh\n",
       "    activation_fn_2, Type: Categorical, Choices: {tanh, relu}, Default: tanh\n",
       "    batch_size, Type: UniformInteger, Range: [0, 3], Default: 2\n",
       "    dropout_1, Type: UniformFloat, Range: [0.0, 0.9], Default: 0.45\n",
       "    dropout_2, Type: UniformFloat, Range: [0.0, 0.9], Default: 0.45\n",
       "    init_lr, Type: UniformInteger, Range: [0, 5], Default: 2\n",
       "    lr_schedule, Type: Categorical, Choices: {cosine, const}, Default: cosine\n",
       "    n_units_1, Type: UniformInteger, Range: [0, 5], Default: 2\n",
       "    n_units_2, Type: UniformInteger, Range: [0, 5], Default: 2"
      ]
     },
     "execution_count": 3,
     "metadata": {},
     "output_type": "execute_result"
    }
   ],
   "source": [
    "cs = CS.ConfigurationSpace(seed=seed)\n",
    "cs.add_hyperparameter(CS.UniformIntegerHyperparameter(\"n_units_1\", lower=0, upper=5))\n",
    "cs.add_hyperparameter(CS.UniformIntegerHyperparameter(\"n_units_2\", lower=0, upper=5))\n",
    "cs.add_hyperparameter(CS.UniformFloatHyperparameter(\"dropout_1\", lower=0, upper=0.9))\n",
    "cs.add_hyperparameter(CS.UniformFloatHyperparameter(\"dropout_2\", lower=0, upper=0.9))\n",
    "cs.add_hyperparameter(CS.CategoricalHyperparameter(\"activation_fn_1\", [\"tanh\", \"relu\"]))\n",
    "cs.add_hyperparameter(CS.CategoricalHyperparameter(\"activation_fn_2\", [\"tanh\", \"relu\"]))\n",
    "cs.add_hyperparameter(\n",
    "    CS.UniformIntegerHyperparameter(\"init_lr\", lower=0, upper=5))\n",
    "cs.add_hyperparameter(CS.CategoricalHyperparameter(\"lr_schedule\", [\"cosine\", \"const\"]))\n",
    "cs.add_hyperparameter(CS.UniformIntegerHyperparameter(\"batch_size\", lower=0, upper=3))\n",
    "cs"
   ]
  },
  {
   "cell_type": "code",
   "execution_count": 4,
   "metadata": {},
   "outputs": [
    {
     "data": {
      "text/plain": [
       "Configuration space object:\n",
       "  Hyperparameters:\n",
       "    activation_fn_1, Type: Categorical, Choices: {tanh, relu}, Default: tanh\n",
       "    activation_fn_2, Type: Categorical, Choices: {tanh, relu}, Default: tanh\n",
       "    batch_size, Type: UniformInteger, Range: [0, 3], Default: 2\n",
       "    dropout_1, Type: UniformFloat, Range: [0.0, 0.9], Default: 0.45\n",
       "    dropout_2, Type: UniformFloat, Range: [0.0, 0.9], Default: 0.45\n",
       "    init_lr, Type: UniformInteger, Range: [0, 5], Default: 2\n",
       "    lr_schedule, Type: Categorical, Choices: {cosine, const}, Default: cosine\n",
       "    n_units_1, Type: UniformInteger, Range: [0, 5], Default: 2\n",
       "    n_units_2, Type: UniformInteger, Range: [0, 5], Default: 2"
      ]
     },
     "execution_count": 4,
     "metadata": {},
     "output_type": "execute_result"
    }
   ],
   "source": [
    "dcs = DenseConfigurationSpace(cs, seed=seed)\n",
    "dcs"
   ]
  },
  {
   "cell_type": "code",
   "execution_count": 5,
   "metadata": {},
   "outputs": [
    {
     "data": {
      "text/plain": [
       "Bounds(array([0., 0., 0., 0., 0., 0., 0., 0., 0., 0., 0., 0.]), array([1., 1., 1., 1., 1., 1., 1., 1., 1., 1., 1., 1.]))"
      ]
     },
     "execution_count": 5,
     "metadata": {},
     "output_type": "execute_result"
    }
   ],
   "source": [
    "dcs.get_bounds()"
   ]
  },
  {
   "cell_type": "code",
   "execution_count": 12,
   "metadata": {},
   "outputs": [
    {
     "data": {
      "text/plain": [
       "Configuration:\n",
       "  activation_fn_1, Value: 'relu'\n",
       "  activation_fn_2, Value: 'tanh'\n",
       "  batch_size, Value: 2\n",
       "  dropout_1, Value: 0.39803953082292726\n",
       "  dropout_2, Value: 0.022039062686389176\n",
       "  init_lr, Value: 0\n",
       "  lr_schedule, Value: 'cosine'\n",
       "  n_units_1, Value: 5\n",
       "  n_units_2, Value: 1"
      ]
     },
     "execution_count": 12,
     "metadata": {},
     "output_type": "execute_result"
    }
   ],
   "source": [
    "config = cs.sample_configuration()\n",
    "config"
   ]
  },
  {
   "cell_type": "code",
   "execution_count": 13,
   "metadata": {},
   "outputs": [
    {
     "data": {
      "text/plain": [
       "Configuration:\n",
       "  activation_fn_1, Value: 'relu'\n",
       "  activation_fn_2, Value: 'tanh'\n",
       "  batch_size, Value: 2\n",
       "  dropout_1, Value: 0.39803953082292726\n",
       "  dropout_2, Value: 0.022039062686389176\n",
       "  init_lr, Value: 0\n",
       "  lr_schedule, Value: 'cosine'\n",
       "  n_units_1, Value: 5\n",
       "  n_units_2, Value: 1"
      ]
     },
     "execution_count": 13,
     "metadata": {},
     "output_type": "execute_result"
    }
   ],
   "source": [
    "dense_config = DenseConfiguration(dcs, values=config.get_dictionary())\n",
    "dense_config"
   ]
  },
  {
   "cell_type": "code",
   "execution_count": 8,
   "metadata": {},
   "outputs": [
    {
     "data": {
      "text/plain": [
       "array([0.        , 1.        , 1.        , 0.        , 0.62500063,\n",
       "       0.44226615, 0.02448785, 0.08333194, 1.        , 0.        ,\n",
       "       0.91666806, 0.24999917])"
      ]
     },
     "execution_count": 8,
     "metadata": {},
     "output_type": "execute_result"
    }
   ],
   "source": [
    "a = dense_config.to_array()\n",
    "a"
   ]
  },
  {
   "cell_type": "code",
   "execution_count": 9,
   "metadata": {},
   "outputs": [
    {
     "data": {
      "text/plain": [
       "Configuration:\n",
       "  activation_fn_1, Value: 'relu'\n",
       "  activation_fn_2, Value: 'tanh'\n",
       "  batch_size, Value: 2\n",
       "  dropout_1, Value: 0.39803953082292726\n",
       "  dropout_2, Value: 0.022039062686389176\n",
       "  init_lr, Value: 0\n",
       "  lr_schedule, Value: 'cosine'\n",
       "  n_units_1, Value: 5\n",
       "  n_units_2, Value: 1"
      ]
     },
     "execution_count": 9,
     "metadata": {},
     "output_type": "execute_result"
    }
   ],
   "source": [
    "DenseConfiguration.from_array(dcs, array_dense=a)"
   ]
  },
  {
   "cell_type": "code",
   "execution_count": 10,
   "metadata": {},
   "outputs": [
    {
     "data": {
      "text/plain": [
       "array([0.8       , 0.6       , 1.        , 0.        , 0.62500063,\n",
       "       0.44226615, 0.02448785, 0.08333194, 1.        , 0.        ,\n",
       "       0.91666806, 0.24999917])"
      ]
     },
     "execution_count": 10,
     "metadata": {},
     "output_type": "execute_result"
    }
   ],
   "source": [
    "a[0] = 0.8\n",
    "a[1] = 0.6\n",
    "a"
   ]
  },
  {
   "cell_type": "code",
   "execution_count": 11,
   "metadata": {},
   "outputs": [
    {
     "data": {
      "text/plain": [
       "Configuration:\n",
       "  activation_fn_1, Value: 'tanh'\n",
       "  activation_fn_2, Value: 'tanh'\n",
       "  batch_size, Value: 2\n",
       "  dropout_1, Value: 0.39803953082292726\n",
       "  dropout_2, Value: 0.022039062686389176\n",
       "  init_lr, Value: 0\n",
       "  lr_schedule, Value: 'cosine'\n",
       "  n_units_1, Value: 5\n",
       "  n_units_2, Value: 1"
      ]
     },
     "execution_count": 11,
     "metadata": {},
     "output_type": "execute_result"
    }
   ],
   "source": [
    "DenseConfiguration.from_array(dcs, array_dense=a)"
   ]
  }
 ],
 "metadata": {
  "kernelspec": {
   "display_name": "Python 3",
   "language": "python",
   "name": "python3"
  },
  "language_info": {
   "codemirror_mode": {
    "name": "ipython",
    "version": 3
   },
   "file_extension": ".py",
   "mimetype": "text/x-python",
   "name": "python",
   "nbconvert_exporter": "python",
   "pygments_lexer": "ipython3",
   "version": "3.6.9"
  }
 },
 "nbformat": 4,
 "nbformat_minor": 4
}
