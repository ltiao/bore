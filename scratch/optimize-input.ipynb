{
 "cells": [
  {
   "cell_type": "code",
   "execution_count": 2,
   "metadata": {},
   "outputs": [],
   "source": [
    "import numpy as np\n",
    "import tensorflow as tf\n",
    "import tensorflow_probability as tfp\n",
    "import tensorflow.keras.backend as K\n",
    "\n",
    "import matplotlib.pyplot as plt\n",
    "import pandas as pd\n",
    "import seaborn as sns\n",
    "\n",
    "from scipy.optimize import minimize, fmin_l_bfgs_b, fmin_ncg\n",
    "from tensorflow.keras.layers import Dense\n",
    "from tensorflow.keras.models import Sequential\n",
    "from tensorflow.keras.initializers import GlorotUniform\n",
    "\n",
    "from bore.datasets import make_regression_dataset, make_classification_dataset\n",
    "# from bore.decorators import negate, unbatch, make_value_and_gradient_fn, numpy_o"
   ]
  },
  {
   "cell_type": "code",
   "execution_count": 3,
   "metadata": {},
   "outputs": [],
   "source": [
    "K.set_floatx(\"float64\")\n",
    "\n",
    "num_samples = 15\n",
    "num_features = 1\n",
    "\n",
    "num_index_points = 512\n",
    "xmin, xmax = -1.0, 2.0\n",
    "X_grid = np.linspace(xmin, xmax, num_index_points).reshape(-1, num_features)\n",
    "\n",
    "noise_variance = 0.2\n",
    "quantile = 1/3\n",
    "\n",
    "seed = 42\n",
    "random_state = np.random.RandomState(seed)"
   ]
  },
  {
   "cell_type": "code",
   "execution_count": 4,
   "metadata": {},
   "outputs": [],
   "source": [
    "def latent(x):\n",
    "#     return (6.0*x-2.0)**2 * np.sin(12.0*x - 4.0)\n",
    "    return np.sin(3.0*x) + x**2 - 0.7*x"
   ]
  },
  {
   "cell_type": "code",
   "execution_count": 6,
   "metadata": {},
   "outputs": [],
   "source": [
    "load_observations = make_regression_dataset(latent)\n",
    "X, y = load_observations(num_samples=num_samples,\n",
    "                         num_features=num_features,\n",
    "                         noise_variance=noise_variance,\n",
    "                         x_min=xmin, x_max=xmax,\n",
    "                         random_state=random_state)"
   ]
  },
  {
   "cell_type": "code",
   "execution_count": 7,
   "metadata": {},
   "outputs": [],
   "source": [
    "import heapq"
   ]
  },
  {
   "cell_type": "code",
   "execution_count": 18,
   "metadata": {},
   "outputs": [
    {
     "data": {
      "text/plain": [
       "array([-0.57487186,  1.65858566,  0.27736031,  1.35581601,  0.58882881,\n",
       "        0.55933779,  1.01513697,  0.14056748, -0.48741114,  0.78465262,\n",
       "        0.02328776,  0.13607386, -0.1462268 ,  0.75616402,  0.40370507])"
      ]
     },
     "execution_count": 18,
     "metadata": {},
     "output_type": "execute_result"
    }
   ],
   "source": [
    "y"
   ]
  },
  {
   "cell_type": "code",
   "execution_count": 19,
   "metadata": {},
   "outputs": [
    {
     "data": {
      "text/plain": [
       "[-0.5748718631108038,\n",
       " 1.6585856572472957,\n",
       " 0.27736030726910965,\n",
       " 1.3558160137662398,\n",
       " 0.5888288120705181,\n",
       " 0.5593377873729888,\n",
       " 1.0151369716187753,\n",
       " 0.14056748231143446,\n",
       " -0.4874111361861066,\n",
       " 0.7846526153931701,\n",
       " 0.023287759286624216,\n",
       " 0.13607385875184191,\n",
       " -0.14622679715264675,\n",
       " 0.7561640204306614,\n",
       " 0.4037050656344667]"
      ]
     },
     "execution_count": 19,
     "metadata": {},
     "output_type": "execute_result"
    }
   ],
   "source": [
    "lst = list(y)\n",
    "lst"
   ]
  },
  {
   "cell_type": "code",
   "execution_count": 20,
   "metadata": {},
   "outputs": [],
   "source": [
    "heapq.heapify(lst)"
   ]
  },
  {
   "cell_type": "code",
   "execution_count": 21,
   "metadata": {},
   "outputs": [
    {
     "data": {
      "text/plain": [
       "[-0.5748718631108038,\n",
       " -0.4874111361861066,\n",
       " -0.14622679715264675,\n",
       " 0.14056748231143446,\n",
       " 0.023287759286624216,\n",
       " 0.13607385875184191,\n",
       " 0.4037050656344667,\n",
       " 1.6585856572472957,\n",
       " 1.3558160137662398,\n",
       " 0.7846526153931701,\n",
       " 0.5888288120705181,\n",
       " 0.27736030726910965,\n",
       " 0.5593377873729888,\n",
       " 0.7561640204306614,\n",
       " 1.0151369716187753]"
      ]
     },
     "execution_count": 21,
     "metadata": {},
     "output_type": "execute_result"
    }
   ],
   "source": [
    "lst"
   ]
  },
  {
   "cell_type": "code",
   "execution_count": 22,
   "metadata": {},
   "outputs": [
    {
     "data": {
      "text/plain": [
       "-0.5748718631108038"
      ]
     },
     "execution_count": 22,
     "metadata": {},
     "output_type": "execute_result"
    }
   ],
   "source": [
    "heapq.heappop(lst)"
   ]
  },
  {
   "cell_type": "code",
   "execution_count": 28,
   "metadata": {},
   "outputs": [
    {
     "data": {
      "text/plain": [
       "4.333333333333333"
      ]
     },
     "execution_count": 28,
     "metadata": {},
     "output_type": "execute_result"
    }
   ],
   "source": [
    "13/3"
   ]
  },
  {
   "cell_type": "code",
   "execution_count": 33,
   "metadata": {},
   "outputs": [],
   "source": [
    "def top_k(heap, k):\n",
    "    \n",
    "    for i in range(k):\n",
    "        yield heapq.heappop(heap)"
   ]
  },
  {
   "cell_type": "code",
   "execution_count": 34,
   "metadata": {},
   "outputs": [
    {
     "ename": "IndexError",
     "evalue": "index out of range",
     "output_type": "error",
     "traceback": [
      "\u001b[0;31m---------------------------------------------------------------------------\u001b[0m",
      "\u001b[0;31mIndexError\u001b[0m                                Traceback (most recent call last)",
      "\u001b[0;32m<ipython-input-34-d9bc97944f1a>\u001b[0m in \u001b[0;36m<module>\u001b[0;34m\u001b[0m\n\u001b[0;32m----> 1\u001b[0;31m \u001b[0mlist\u001b[0m\u001b[0;34m(\u001b[0m\u001b[0mtop_k\u001b[0m\u001b[0;34m(\u001b[0m\u001b[0mlst\u001b[0m\u001b[0;34m,\u001b[0m \u001b[0;36m5\u001b[0m\u001b[0;34m)\u001b[0m\u001b[0;34m)\u001b[0m\u001b[0;34m\u001b[0m\u001b[0;34m\u001b[0m\u001b[0m\n\u001b[0m",
      "\u001b[0;32m<ipython-input-33-c087bcd1d669>\u001b[0m in \u001b[0;36mtop_k\u001b[0;34m(heap, k)\u001b[0m\n\u001b[1;32m      2\u001b[0m \u001b[0;34m\u001b[0m\u001b[0m\n\u001b[1;32m      3\u001b[0m     \u001b[0;32mfor\u001b[0m \u001b[0mi\u001b[0m \u001b[0;32min\u001b[0m \u001b[0mrange\u001b[0m\u001b[0;34m(\u001b[0m\u001b[0mk\u001b[0m\u001b[0;34m)\u001b[0m\u001b[0;34m:\u001b[0m\u001b[0;34m\u001b[0m\u001b[0;34m\u001b[0m\u001b[0m\n\u001b[0;32m----> 4\u001b[0;31m         \u001b[0;32myield\u001b[0m \u001b[0mheapq\u001b[0m\u001b[0;34m.\u001b[0m\u001b[0mheappop\u001b[0m\u001b[0;34m(\u001b[0m\u001b[0mheap\u001b[0m\u001b[0;34m)\u001b[0m\u001b[0;34m\u001b[0m\u001b[0;34m\u001b[0m\u001b[0m\n\u001b[0m",
      "\u001b[0;31mIndexError\u001b[0m: index out of range"
     ]
    }
   ],
   "source": [
    "list(top_k(lst, 5))"
   ]
  },
  {
   "cell_type": "code",
   "execution_count": 38,
   "metadata": {},
   "outputs": [
    {
     "name": "stdout",
     "output_type": "stream",
     "text": [
      "[(-0.5748718631108038, array([-0.44543663]))]\n",
      "[(-0.5748718631108038, array([-0.44543663])), (1.6585856572472957, array([1.90875388]))]\n",
      "[(-0.5748718631108038, array([-0.44543663])), (1.6585856572472957, array([1.90875388])), (0.27736030726910965, array([1.32539847]))]\n",
      "[(-0.5748718631108038, array([-0.44543663])), (1.3558160137662398, array([1.81849682])), (0.27736030726910965, array([1.32539847])), (1.6585856572472957, array([1.90875388]))]\n",
      "[(-0.5748718631108038, array([-0.44543663])), (0.5888288120705181, array([1.68448205])), (0.27736030726910965, array([1.32539847])), (1.6585856572472957, array([1.90875388])), (1.3558160137662398, array([1.81849682]))]\n",
      "[(-0.5748718631108038, array([-0.44543663])), (0.5888288120705181, array([1.68448205])), (0.27736030726910965, array([1.32539847])), (1.6585856572472957, array([1.90875388])), (1.3558160137662398, array([1.81849682])), (0.5593377873729888, array([0.79369994]))]\n",
      "[(-0.5748718631108038, array([-0.44543663])), (0.5888288120705181, array([1.68448205])), (0.27736030726910965, array([1.32539847])), (1.6585856572472957, array([1.90875388])), (1.3558160137662398, array([1.81849682])), (0.5593377873729888, array([0.79369994])), (1.0151369716187753, array([1.76562271]))]\n",
      "[(-0.5748718631108038, array([-0.44543663])), (0.14056748231143446, array([-0.73452249])), (0.27736030726910965, array([1.32539847])), (0.5888288120705181, array([1.68448205])), (1.3558160137662398, array([1.81849682])), (0.5593377873729888, array([0.79369994])), (1.0151369716187753, array([1.76562271])), (1.6585856572472957, array([1.90875388]))]\n",
      "[(-0.5748718631108038, array([-0.44543663])), (-0.4874111361861066, array([-0.41205141])), (0.27736030726910965, array([1.32539847])), (0.14056748231143446, array([-0.73452249])), (1.3558160137662398, array([1.81849682])), (0.5593377873729888, array([0.79369994])), (1.0151369716187753, array([1.76562271])), (1.6585856572472957, array([1.90875388])), (0.5888288120705181, array([1.68448205]))]\n",
      "[(-0.5748718631108038, array([-0.44543663])), (-0.4874111361861066, array([-0.41205141])), (0.27736030726910965, array([1.32539847])), (0.14056748231143446, array([-0.73452249])), (0.7846526153931701, array([-0.86431813])), (0.5593377873729888, array([0.79369994])), (1.0151369716187753, array([1.76562271])), (1.6585856572472957, array([1.90875388])), (0.5888288120705181, array([1.68448205])), (1.3558160137662398, array([1.81849682]))]\n",
      "[(-0.5748718631108038, array([-0.44543663])), (-0.4874111361861066, array([-0.41205141])), (0.27736030726910965, array([1.32539847])), (0.14056748231143446, array([-0.73452249])), (0.023287759286624216, array([-0.02400901])), (0.5593377873729888, array([0.79369994])), (1.0151369716187753, array([1.76562271])), (1.6585856572472957, array([1.90875388])), (0.5888288120705181, array([1.68448205])), (1.3558160137662398, array([1.81849682])), (0.7846526153931701, array([-0.86431813]))]\n",
      "[(-0.5748718631108038, array([-0.44543663])), (-0.4874111361861066, array([-0.41205141])), (0.13607385875184191, array([0.16603187])), (0.14056748231143446, array([-0.73452249])), (0.023287759286624216, array([-0.02400901])), (0.27736030726910965, array([1.32539847])), (1.0151369716187753, array([1.76562271])), (1.6585856572472957, array([1.90875388])), (0.5888288120705181, array([1.68448205])), (1.3558160137662398, array([1.81849682])), (0.7846526153931701, array([-0.86431813])), (0.5593377873729888, array([0.79369994]))]\n",
      "[(-0.5748718631108038, array([-0.44543663])), (-0.4874111361861066, array([-0.41205141])), (-0.14622679715264675, array([-0.1859529])), (0.14056748231143446, array([-0.73452249])), (0.023287759286624216, array([-0.02400901])), (0.13607385875184191, array([0.16603187])), (1.0151369716187753, array([1.76562271])), (1.6585856572472957, array([1.90875388])), (0.5888288120705181, array([1.68448205])), (1.3558160137662398, array([1.81849682])), (0.7846526153931701, array([-0.86431813])), (0.5593377873729888, array([0.79369994])), (0.27736030726910965, array([1.32539847]))]\n",
      "[(-0.5748718631108038, array([-0.44543663])), (-0.4874111361861066, array([-0.41205141])), (-0.14622679715264675, array([-0.1859529])), (0.14056748231143446, array([-0.73452249])), (0.023287759286624216, array([-0.02400901])), (0.13607385875184191, array([0.16603187])), (0.7561640204306614, array([1.48621253])), (1.6585856572472957, array([1.90875388])), (0.5888288120705181, array([1.68448205])), (1.3558160137662398, array([1.81849682])), (0.7846526153931701, array([-0.86431813])), (0.5593377873729888, array([0.79369994])), (0.27736030726910965, array([1.32539847])), (1.0151369716187753, array([1.76562271]))]\n",
      "[(-0.5748718631108038, array([-0.44543663])), (-0.4874111361861066, array([-0.41205141])), (-0.14622679715264675, array([-0.1859529])), (0.14056748231143446, array([-0.73452249])), (0.023287759286624216, array([-0.02400901])), (0.13607385875184191, array([0.16603187])), (0.4037050656344667, array([0.07025998])), (1.6585856572472957, array([1.90875388])), (0.5888288120705181, array([1.68448205])), (1.3558160137662398, array([1.81849682])), (0.7846526153931701, array([-0.86431813])), (0.5593377873729888, array([0.79369994])), (0.27736030726910965, array([1.32539847])), (1.0151369716187753, array([1.76562271])), (0.7561640204306614, array([1.48621253]))]\n"
     ]
    }
   ],
   "source": [
    "lst = []\n",
    "\n",
    "for (u, v) in zip(X, y):\n",
    "\n",
    "    heapq.heappush(lst, (v, u))\n",
    "\n",
    "    print(lst)"
   ]
  },
  {
   "cell_type": "code",
   "execution_count": 51,
   "metadata": {},
   "outputs": [],
   "source": [
    "b = list(lst)\n",
    "c, d = list(zip(*[heapq.heappop(b) for i in range(5)]))"
   ]
  },
  {
   "cell_type": "code",
   "execution_count": 56,
   "metadata": {},
   "outputs": [
    {
     "data": {
      "text/plain": [
       "array([-0.57487186, -0.48741114, -0.1462268 ,  0.02328776,  0.13607386])"
      ]
     },
     "execution_count": 56,
     "metadata": {},
     "output_type": "execute_result"
    }
   ],
   "source": [
    "y_low = np.hstack(c)\n",
    "y_low"
   ]
  },
  {
   "cell_type": "code",
   "execution_count": 57,
   "metadata": {},
   "outputs": [
    {
     "data": {
      "text/plain": [
       "array([[-0.44543663],\n",
       "       [-0.41205141],\n",
       "       [-0.1859529 ],\n",
       "       [-0.02400901],\n",
       "       [ 0.16603187]])"
      ]
     },
     "execution_count": 57,
     "metadata": {},
     "output_type": "execute_result"
    }
   ],
   "source": [
    "X_low = np.vstack(d)\n",
    "X_low"
   ]
  },
  {
   "cell_type": "code",
   "execution_count": 58,
   "metadata": {},
   "outputs": [
    {
     "data": {
      "text/plain": [
       "[(0.14056748231143446, array([-0.73452249])),\n",
       " (0.5888288120705181, array([1.68448205])),\n",
       " (0.27736030726910965, array([1.32539847])),\n",
       " (0.7846526153931701, array([-0.86431813])),\n",
       " (0.7561640204306614, array([1.48621253])),\n",
       " (0.5593377873729888, array([0.79369994])),\n",
       " (0.4037050656344667, array([0.07025998])),\n",
       " (1.6585856572472957, array([1.90875388])),\n",
       " (1.0151369716187753, array([1.76562271])),\n",
       " (1.3558160137662398, array([1.81849682]))]"
      ]
     },
     "execution_count": 58,
     "metadata": {},
     "output_type": "execute_result"
    }
   ],
   "source": [
    "b"
   ]
  },
  {
   "cell_type": "code",
   "execution_count": null,
   "metadata": {},
   "outputs": [],
   "source": []
  }
 ],
 "metadata": {
  "kernelspec": {
   "display_name": "Python 3",
   "language": "python",
   "name": "python3"
  },
  "language_info": {
   "codemirror_mode": {
    "name": "ipython",
    "version": 3
   },
   "file_extension": ".py",
   "mimetype": "text/x-python",
   "name": "python",
   "nbconvert_exporter": "python",
   "pygments_lexer": "ipython3",
   "version": "3.6.9"
  }
 },
 "nbformat": 4,
 "nbformat_minor": 4
}
